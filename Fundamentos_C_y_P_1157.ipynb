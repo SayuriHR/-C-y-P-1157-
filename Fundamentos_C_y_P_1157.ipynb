{
  "nbformat": 4,
  "nbformat_minor": 0,
  "metadata": {
    "colab": {
      "name": "Fundamentos C y P 1157 ",
      "provenance": []
    },
    "kernelspec": {
      "name": "python3",
      "display_name": "Python 3"
    },
    "language_info": {
      "name": "python"
    }
  },
  "cells": [
    {
      "cell_type": "code",
      "metadata": {
        "colab": {
          "base_uri": "https://localhost:8080/"
        },
        "id": "ntMDxDlRVjCn",
        "outputId": "cb76b75e-22ec-4820-b36e-43dc7eed5aca"
      },
      "source": [
        " nombre = \" Jose \" # Tipo de dato String (cadena de caracteres)\n",
        "\n",
        "print( nombre )\n",
        "\n",
        "\n",
        "\n"
      ],
      "execution_count": 22,
      "outputs": [
        {
          "output_type": "stream",
          "name": "stdout",
          "text": [
            " Jose \n"
          ]
        }
      ]
    },
    {
      "cell_type": "markdown",
      "metadata": {
        "id": "woo7qQzcZn1p"
      },
      "source": [
        "# Tipos de datos en Python \n",
        "  Tipos simples \n",
        "\n",
        "- str --> String cadena de caracteres \n",
        "- int --> Numeros enteros \n",
        "- float --> Numeros de notacion de punto flotante \n",
        "- bool --> Boleano (True o Fals )\n",
        "- byte--> 8 bits \n",
        "# Tipos de datos estructurados (compuestos)\n",
        "- list --> listas (Arreglos en otros lenguajes) mutables y duplas no mutables \n",
        "- tuple --> listas no mutables \n",
        "- dict --> diccionarios \n",
        "- set y frosezent  --> conjuntos   \n"
      ]
    },
    {
      "cell_type": "code",
      "metadata": {
        "colab": {
          "base_uri": "https://localhost:8080/",
          "height": 69
        },
        "id": "2_N5XGaLpkFi",
        "outputId": "dab62ba7-f64b-4ace-97ee-0a2c6e0b517a"
      },
      "source": [
        "import sys \n",
        "edad = 19\n",
        "print(\"tu edad es:\",edad) # al final de una linea de codigo \n",
        "# este es un comentario de linea simple \n",
        "\"\"\"\n",
        "comentario de multiple linea\n",
        "en lenguaje C, C++ y Java el comentario de una liena es: \n",
        "//\n",
        "aqui puedes explicar en prosa el segmento de un codigo para futura revsion \n",
        "\"\"\" "
      ],
      "execution_count": 32,
      "outputs": [
        {
          "output_type": "stream",
          "name": "stdout",
          "text": [
            "tu edad es: 19\n"
          ]
        },
        {
          "output_type": "execute_result",
          "data": {
            "application/vnd.google.colaboratory.intrinsic+json": {
              "type": "string"
            },
            "text/plain": [
              "'\\ncomentario de multiple linea\\nen lenguaje C, C++ y Java el comentario de una liena es: \\n//\\naqui puedes explicar en prosa el segmento de un codigo para futura revsion \\n'"
            ]
          },
          "metadata": {},
          "execution_count": 32
        }
      ]
    },
    {
      "cell_type": "markdown",
      "metadata": {
        "id": "Lde01J4GxLJO"
      },
      "source": [
        "-las comillas las ponemos para hacer un comentario son parte de nuestro programa para poder acomplementarlo \n",
        "- despues de la primera comilla el programa ignora lo que esta dentro de las comillas y no afecta al programa \n",
        "- utlizamos # para poder ayunarnos en un texto  "
      ]
    },
    {
      "cell_type": "code",
      "metadata": {
        "colab": {
          "base_uri": "https://localhost:8080/"
        },
        "id": "-KHIrORlx4kt",
        "outputId": "33560187-c62a-4416-fa61-e29177b0698b"
      },
      "source": [
        "import sys \n",
        "# Tipos de datos nuemricos int y float \n",
        "edad = 19 \n",
        "print(\"tu edad es:\", edad)\n",
        "print (sys.getsizeof(edad)) # edad es una variable \n",
        "# el tipo de dato int utiliza diferente cantidad de bits segun el \n",
        "# lenguaje de programacion por ejemplo C utiliza 16 bits \n",
        "edad = edad + 1\n"
      ],
      "execution_count": 33,
      "outputs": [
        {
          "output_type": "stream",
          "name": "stdout",
          "text": [
            "tu edad es: 19\n",
            "28\n"
          ]
        }
      ]
    },
    {
      "cell_type": "markdown",
      "metadata": {
        "id": "M-F0lUMZzLKo"
      },
      "source": [
        "# La bibloteca sys \n",
        "- representa al sistrema Phyton averiguar cuando esta ocupando la variable en el sistema \n",
        "- representa a la computadora actual \n"
      ]
    },
    {
      "cell_type": "markdown",
      "metadata": {
        "id": "8IdvZ6ZHzrh3"
      },
      "source": [
        "# getsizeof \n",
        "- muestra lo que represneta un bits en nuestro programa usamos 28 bits "
      ]
    },
    {
      "cell_type": "code",
      "metadata": {
        "colab": {
          "base_uri": "https://localhost:8080/"
        },
        "id": "8S5FGAAzz5b8",
        "outputId": "51aeb213-7371-4475-aac9-c618fe32b760"
      },
      "source": [
        "import sys \n",
        "estatura = 1.56 #declaro variable \n",
        "print( estatura ) # imprimo el valor de la varible \n",
        "print( sys.getsizeof(estatura))\n",
        "estatura = estatura + 0.1 \n",
        "print( round(estatura,2))\n",
        "# round hace que redonde y el 2 es hasta que digito tomara en este redondeo \n",
        "\n",
        "edad= 21\n",
        "#suma \n",
        "edad +=1 #edad = edad + 1\n",
        "print(\"tu edad es\", edad)\n",
        "\n",
        "#resta \n",
        "edad -=1 #edad = edad - 1 \n",
        "print(\"tu edad es\", edad)\n",
        "\n",
        "\n",
        "#divison \n",
        "edad /=2\n",
        "print(\"tu edad es\", edad )\n",
        "\n",
        "edad = 21 \n",
        "# volver a calcular la mitad de la edad pero solo dejar\n",
        "# la parte entera \n",
        "edad =  edad // 2 # la diagonal diagonal obliga a dar numeros enteros \n",
        "print(\" la mitad de tu edad es\", edad )\n",
        "\n",
        "# en la mayoria de los leng no permite operaciones entre diferentes tipos de datos \n",
        "numero= edad / 2.0\n",
        "print(numero)\n",
        "\n",
        "#multiplicacion \n",
        "numero *=3  # numero *3 simplifica la expresion \n",
        "print(numero)\n",
        "\n",
        "#potencias\n",
        "numero= 5.0\n",
        "numero **=2 #numero **2 no tiene simplificacion en otros lenguajes python si \n",
        "print(numero)\n",
        "\n",
        "\n",
        "#operador modulo \n",
        "numero= 21\n",
        "print( numero /2)\n",
        "print( numero //2)\n",
        "\n",
        "# el operador modulo da como resultado el residuo de una divison entera \n",
        "\n",
        "print(numero %2) # el lenguaje modulo se utiliza %\n",
        "\n",
        "numero = 24\n",
        "print(\"residuo de 24/5:\", numero % 5)\n",
        "print (numero % 2 ==0)\n",
        "# es importante para calculos \n",
        "# saber si un numero es multiplo de otro  \n",
        "\n",
        "#operadores relacionales logicos \n",
        "#igual \n",
        "nuemro = 24 \n",
        "print(\"24 es par?:, numero % 5\")\n",
        "print(numero % 2 ==0)\n",
        "\n",
        "#diferencia \n",
        "print(\"247 es difrente de 23:\", numero !=23)\n",
        "print(\"24 es mayor que 23:\", numero > 23)\n",
        "print(\"24 es menor que 23:\", numero < 23)\n",
        "\n",
        "print(\"24 es mayor o igual que 24:\", numero >= 24)\n",
        "print(\"24 es menor o igual uqe 24:\", numero <= 23)\n",
        "\n",
        "print(\"el tipo de dato de la variable nuimero es:\", type (numero))\n",
        "print(\"el tipo de dato de la variable entre 2 es:\", type (numero / 2))\n",
        "\n"
      ],
      "execution_count": 38,
      "outputs": [
        {
          "output_type": "stream",
          "name": "stdout",
          "text": [
            "1.56\n",
            "24\n",
            "1.66\n",
            "tu edad es 22\n",
            "tu edad es 21\n",
            "tu edad es 10.5\n",
            " la mitad de tu edad es 10\n",
            "5.0\n",
            "15.0\n",
            "25.0\n",
            "10.5\n",
            "10\n",
            "1\n",
            "residuo de 24/5: 4\n",
            "True\n",
            "24 es par?:, numero % 5\n",
            "True\n",
            "247 es difrente de 23: True\n",
            "24 es mayor que 23: True\n",
            "24 es menor que 23: False\n",
            "24 es mayor o igual que 24: True\n",
            "24 es menor o igual uqe 24: False\n",
            "el tipo de dato de la variable nuimero es: <class 'int'>\n",
            "el tipo de dato de la variable entre 2 es: <class 'float'>\n"
          ]
        }
      ]
    },
    {
      "cell_type": "markdown",
      "metadata": {
        "id": "5j3tBKKd01bo"
      },
      "source": [
        "# Valores Flotantes\n",
        "- es importante hacer la limitacion de la de la precision de la limitacion de los valores \n",
        " \n"
      ]
    },
    {
      "cell_type": "markdown",
      "metadata": {
        "id": "MogX5DB35Pnq"
      },
      "source": [
        "+= es lo mismo que al aumentarle a edad 1 \n",
        "- en python la divison te la dara en punto decimal \n",
        "\n",
        "# Operadores Relacionales \n",
        "- igaual que: =\n",
        "- diferente: <>\n",
        "- menor que= < \n",
        "- mayor que = > \n",
        "-menor o igual= <=\n",
        "-mayor o igual que= =>"
      ]
    },
    {
      "cell_type": "markdown",
      "metadata": {
        "id": "qyxzxok_pl_u"
      },
      "source": [
        "# Tipo de dato String (str) en Python \n",
        "\n",
        "- se maneja como un arreglo (tipo de dato compuesto) \n",
        "- se puede acceder a los elemntos de el string por mdeio del indice del caracter \n",
        "-mutable \n",
        "tiene metodos utiles ( potentes)\n",
        "-slicing\n",
        "- hay cuatro formas de usar un str\n",
        "- si es solo con una linea es con *comillas simples \n",
        "- si son mas de una utilizar las triples comillas \"\"\"\n",
        "- o usar str( \"Perez\") \n"
      ]
    },
    {
      "cell_type": "code",
      "metadata": {
        "colab": {
          "base_uri": "https://localhost:8080/"
        },
        "id": "uVC2M5zQqQP1",
        "outputId": "2cf98aea-7751-4dc2-ba4a-dd6b2bbcaed6"
      },
      "source": [
        "#primero hay que ver como se define la variable str \n",
        "\n",
        "nombre = \"jose\"\n",
        "carrera = \"ingenieria en computacion\"\n",
        "frase = \"\"\" el conocimiento\n",
        "me persigue,....\n",
        "pero \n",
        "yo soy mas rapido\"\"\"\n",
        "\n",
        "print( nombre )\n",
        "print( carrera )\n",
        "print( frase )\n",
        "\n",
        "# la funcion type de Phyton te devuelve el tipo de dato de una variable o expresion \n",
        "print(type (nombre))\n",
        "\n",
        "paterno = str(\"Perez\")\n",
        "print( paterno)\n"
      ],
      "execution_count": 39,
      "outputs": [
        {
          "output_type": "stream",
          "name": "stdout",
          "text": [
            "jose\n",
            "ingenieria en computacion\n",
            " el conocimiento\n",
            "me persigue,....\n",
            "pero \n",
            "yo soy mas rapido\n",
            "<class 'str'>\n",
            "Perez\n"
          ]
        }
      ]
    }
  ]
}