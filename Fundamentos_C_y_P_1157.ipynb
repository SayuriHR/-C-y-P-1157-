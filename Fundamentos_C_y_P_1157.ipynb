{
  "nbformat": 4,
  "nbformat_minor": 0,
  "metadata": {
    "colab": {
      "name": "Fundamentos C y P 1157 ",
      "provenance": [],
      "authorship_tag": "ABX9TyOVOS+GtXFc+lBQwa1sWhdL",
      "include_colab_link": true
    },
    "kernelspec": {
      "name": "python3",
      "display_name": "Python 3"
    },
    "language_info": {
      "name": "python"
    }
  },
  "cells": [
    {
      "cell_type": "markdown",
      "metadata": {
        "id": "view-in-github",
        "colab_type": "text"
      },
      "source": [
        "<a href=\"https://colab.research.google.com/github/SayuriHR/-C-y-P-1157-/blob/main/Fundamentos_C_y_P_1157.ipynb\" target=\"_parent\"><img src=\"https://colab.research.google.com/assets/colab-badge.svg\" alt=\"Open In Colab\"/></a>"
      ]
    },
    {
      "cell_type": "markdown",
      "metadata": {
        "id": "VCQlZSsxBWb5"
      },
      "source": [
        "# 12 de Octubre del 2021"
      ]
    },
    {
      "cell_type": "code",
      "metadata": {
        "colab": {
          "base_uri": "https://localhost:8080/"
        },
        "id": "ntMDxDlRVjCn",
        "outputId": "f693d49f-ae7d-482a-e573-436235b64863"
      },
      "source": [
        "nombre = \" Jose \" # Tipo de dato String (cadena de caracteres)\n",
        "\n",
        "print( nombre )\n",
        "\n",
        "\n",
        "\n"
      ],
      "execution_count": null,
      "outputs": [
        {
          "output_type": "stream",
          "name": "stdout",
          "text": [
            " Jose \n"
          ]
        }
      ]
    },
    {
      "cell_type": "markdown",
      "metadata": {
        "id": "woo7qQzcZn1p"
      },
      "source": [
        "# Tipos de datos en Python \n",
        "  Tipos simples \n",
        "\n",
        "- str --> String cadena de caracteres \n",
        "- int --> Numeros enteros \n",
        "- float --> Numeros de notacion de punto flotante \n",
        "- bool --> Boleano (True o Fals )\n",
        "- byte--> 8 bits \n",
        "# Tipos de datos estructurados (compuestos)\n",
        "- list --> listas (Arreglos en otros lenguajes) mutables y duplas no mutables \n",
        "- tuple --> listas no mutables \n",
        "- dict --> diccionarios \n",
        "- set y frosezent  --> conjuntos   \n"
      ]
    },
    {
      "cell_type": "code",
      "metadata": {
        "colab": {
          "base_uri": "https://localhost:8080/",
          "height": 69
        },
        "id": "2_N5XGaLpkFi",
        "outputId": "dab62ba7-f64b-4ace-97ee-0a2c6e0b517a"
      },
      "source": [
        "import sys \n",
        "edad = 19\n",
        "print(\"tu edad es:\",edad) # al final de una linea de codigo \n",
        "# este es un comentario de linea simple \n",
        "\"\"\"\n",
        "comentario de multiple linea\n",
        "en lenguaje C, C++ y Java el comentario de una liena es: \n",
        "//\n",
        "aqui puedes explicar en prosa el segmento de un codigo para futura revsion \n",
        "\"\"\" "
      ],
      "execution_count": null,
      "outputs": [
        {
          "output_type": "stream",
          "name": "stdout",
          "text": [
            "tu edad es: 19\n"
          ]
        },
        {
          "output_type": "execute_result",
          "data": {
            "application/vnd.google.colaboratory.intrinsic+json": {
              "type": "string"
            },
            "text/plain": [
              "'\\ncomentario de multiple linea\\nen lenguaje C, C++ y Java el comentario de una liena es: \\n//\\naqui puedes explicar en prosa el segmento de un codigo para futura revsion \\n'"
            ]
          },
          "metadata": {},
          "execution_count": 32
        }
      ]
    },
    {
      "cell_type": "markdown",
      "metadata": {
        "id": "Lde01J4GxLJO"
      },
      "source": [
        "-las comillas las ponemos para hacer un comentario son parte de nuestro programa para poder acomplementarlo \n",
        "- despues de la primera comilla el programa ignora lo que esta dentro de las comillas y no afecta al programa \n",
        "- utlizamos # para poder ayunarnos en un texto  "
      ]
    },
    {
      "cell_type": "code",
      "metadata": {
        "colab": {
          "base_uri": "https://localhost:8080/"
        },
        "id": "-KHIrORlx4kt",
        "outputId": "33560187-c62a-4416-fa61-e29177b0698b"
      },
      "source": [
        "import sys \n",
        "# Tipos de datos nuemricos int y float \n",
        "edad = 19 \n",
        "print(\"tu edad es:\", edad)\n",
        "print (sys.getsizeof(edad)) # edad es una variable \n",
        "# el tipo de dato int utiliza diferente cantidad de bits segun el \n",
        "# lenguaje de programacion por ejemplo C utiliza 16 bits \n",
        "edad = edad + 1\n"
      ],
      "execution_count": null,
      "outputs": [
        {
          "output_type": "stream",
          "name": "stdout",
          "text": [
            "tu edad es: 19\n",
            "28\n"
          ]
        }
      ]
    },
    {
      "cell_type": "markdown",
      "metadata": {
        "id": "M-F0lUMZzLKo"
      },
      "source": [
        "# La bibloteca sys \n",
        "- representa al sistrema Phyton averiguar cuando esta ocupando la variable en el sistema \n",
        "- representa a la computadora actual \n"
      ]
    },
    {
      "cell_type": "markdown",
      "metadata": {
        "id": "8IdvZ6ZHzrh3"
      },
      "source": [
        "# getsizeof \n",
        "- muestra lo que represneta un bits en nuestro programa usamos 28 bits "
      ]
    },
    {
      "cell_type": "code",
      "metadata": {
        "colab": {
          "base_uri": "https://localhost:8080/"
        },
        "id": "8S5FGAAzz5b8",
        "outputId": "51aeb213-7371-4475-aac9-c618fe32b760"
      },
      "source": [
        "import sys \n",
        "estatura = 1.56 #declaro variable \n",
        "print( estatura ) # imprimo el valor de la varible \n",
        "print( sys.getsizeof(estatura))\n",
        "estatura = estatura + 0.1 \n",
        "print( round(estatura,2))\n",
        "# round hace que redonde y el 2 es hasta que digito tomara en este redondeo \n",
        "\n",
        "edad= 21\n",
        "#suma \n",
        "edad +=1 #edad = edad + 1\n",
        "print(\"tu edad es\", edad)\n",
        "\n",
        "#resta \n",
        "edad -=1 #edad = edad - 1 \n",
        "print(\"tu edad es\", edad)\n",
        "\n",
        "\n",
        "#divison \n",
        "edad /=2\n",
        "print(\"tu edad es\", edad )\n",
        "\n",
        "edad = 21 \n",
        "# volver a calcular la mitad de la edad pero solo dejar\n",
        "# la parte entera \n",
        "edad =  edad // 2 # la diagonal diagonal obliga a dar numeros enteros \n",
        "print(\" la mitad de tu edad es\", edad )\n",
        "\n",
        "# en la mayoria de los leng no permite operaciones entre diferentes tipos de datos \n",
        "numero= edad / 2.0\n",
        "print(numero)\n",
        "\n",
        "#multiplicacion \n",
        "numero *=3  # numero *3 simplifica la expresion \n",
        "print(numero)\n",
        "\n",
        "#potencias\n",
        "numero= 5.0\n",
        "numero **=2 #numero **2 no tiene simplificacion en otros lenguajes python si \n",
        "print(numero)\n",
        "\n",
        "\n",
        "#operador modulo \n",
        "numero= 21\n",
        "print( numero /2)\n",
        "print( numero //2)\n",
        "\n",
        "# el operador modulo da como resultado el residuo de una divison entera \n",
        "\n",
        "print(numero %2) # el lenguaje modulo se utiliza %\n",
        "\n",
        "numero = 24\n",
        "print(\"residuo de 24/5:\", numero % 5)\n",
        "print (numero % 2 ==0)\n",
        "# es importante para calculos \n",
        "# saber si un numero es multiplo de otro  \n",
        "\n",
        "#operadores relacionales logicos \n",
        "#igual \n",
        "nuemro = 24 \n",
        "print(\"24 es par?:, numero % 5\")\n",
        "print(numero % 2 ==0)\n",
        "\n",
        "#diferencia \n",
        "print(\"247 es difrente de 23:\", numero !=23)\n",
        "print(\"24 es mayor que 23:\", numero > 23)\n",
        "print(\"24 es menor que 23:\", numero < 23)\n",
        "\n",
        "print(\"24 es mayor o igual que 24:\", numero >= 24)\n",
        "print(\"24 es menor o igual uqe 24:\", numero <= 23)\n",
        "\n",
        "print(\"el tipo de dato de la variable nuimero es:\", type (numero))\n",
        "print(\"el tipo de dato de la variable entre 2 es:\", type (numero / 2))\n",
        "\n"
      ],
      "execution_count": null,
      "outputs": [
        {
          "output_type": "stream",
          "name": "stdout",
          "text": [
            "1.56\n",
            "24\n",
            "1.66\n",
            "tu edad es 22\n",
            "tu edad es 21\n",
            "tu edad es 10.5\n",
            " la mitad de tu edad es 10\n",
            "5.0\n",
            "15.0\n",
            "25.0\n",
            "10.5\n",
            "10\n",
            "1\n",
            "residuo de 24/5: 4\n",
            "True\n",
            "24 es par?:, numero % 5\n",
            "True\n",
            "247 es difrente de 23: True\n",
            "24 es mayor que 23: True\n",
            "24 es menor que 23: False\n",
            "24 es mayor o igual que 24: True\n",
            "24 es menor o igual uqe 24: False\n",
            "el tipo de dato de la variable nuimero es: <class 'int'>\n",
            "el tipo de dato de la variable entre 2 es: <class 'float'>\n"
          ]
        }
      ]
    },
    {
      "cell_type": "markdown",
      "metadata": {
        "id": "5j3tBKKd01bo"
      },
      "source": [
        "# Valores Flotantes\n",
        "- es importante hacer la limitacion de la de la precision de la limitacion de los valores \n",
        " \n"
      ]
    },
    {
      "cell_type": "markdown",
      "metadata": {
        "id": "MogX5DB35Pnq"
      },
      "source": [
        "+= es lo mismo que al aumentarle a edad 1 \n",
        "- en python la divison te la dara en punto decimal \n",
        "\n",
        "# Operadores Relacionales \n",
        "- igaual que: =\n",
        "- diferente: <>\n",
        "- menor que= < \n",
        "- mayor que = > \n",
        "-menor o igual= <=\n",
        "-mayor o igual que= =>"
      ]
    },
    {
      "cell_type": "markdown",
      "metadata": {
        "id": "qyxzxok_pl_u"
      },
      "source": [
        "# Tipo de dato String (str) en Python \n",
        "\n",
        "- se maneja como un arreglo (tipo de dato compuesto) \n",
        "- se puede acceder a los elemntos de el string por mdeio del indice del caracter \n",
        "-mutable \n",
        "tiene metodos utiles ( potentes)\n",
        "-slicing\n",
        "- hay cuatro formas de usar un str\n",
        "- si es solo con una linea es con *comillas simples \n",
        "- si son mas de una utilizar las triples comillas \"\"\"\n",
        "- o usar str( \"Perez\") \n"
      ]
    },
    {
      "cell_type": "code",
      "metadata": {
        "colab": {
          "base_uri": "https://localhost:8080/"
        },
        "id": "uVC2M5zQqQP1",
        "outputId": "2cf98aea-7751-4dc2-ba4a-dd6b2bbcaed6"
      },
      "source": [
        "#primero hay que ver como se define la variable str \n",
        "\n",
        "nombre = \"jose\"\n",
        "carrera = \"ingenieria en computacion\"\n",
        "frase = \"\"\" el conocimiento\n",
        "me persigue,....\n",
        "pero \n",
        "yo soy mas rapido\"\"\"\n",
        "\n",
        "print( nombre )\n",
        "print( carrera )\n",
        "print( frase )\n",
        "\n",
        "# la funcion type de Phyton te devuelve el tipo de dato de una variable o expresion \n",
        "print(type (nombre))\n",
        "\n",
        "paterno = str(\"Perez\")\n",
        "print( paterno)\n"
      ],
      "execution_count": null,
      "outputs": [
        {
          "output_type": "stream",
          "name": "stdout",
          "text": [
            "jose\n",
            "ingenieria en computacion\n",
            " el conocimiento\n",
            "me persigue,....\n",
            "pero \n",
            "yo soy mas rapido\n",
            "<class 'str'>\n",
            "Perez\n"
          ]
        }
      ]
    },
    {
      "cell_type": "markdown",
      "metadata": {
        "id": "fCjpJEfbBHSm"
      },
      "source": [
        "# 14 de Octubre del 2021"
      ]
    },
    {
      "cell_type": "markdown",
      "metadata": {
        "id": "_X_ETumUpMTw"
      },
      "source": [
        "#Una clase (class) es un tipo de de dato compuesto"
      ]
    },
    {
      "cell_type": "code",
      "metadata": {
        "colab": {
          "base_uri": "https://localhost:8080/"
        },
        "id": "r2gCBW5tpa-A",
        "outputId": "2e3003b6-a80e-42ca-9f50-bac1105e51f7"
      },
      "source": [
        " carrera =\"ingenieria en computacion\"\n",
        " print( carrera )\n",
        " print ( carrera [2] )\n",
        " "
      ],
      "execution_count": null,
      "outputs": [
        {
          "output_type": "stream",
          "name": "stdout",
          "text": [
            "ingenieria en computacion\n",
            "g\n"
          ]
        }
      ]
    },
    {
      "cell_type": "markdown",
      "metadata": {
        "id": "NBbIVzrlrkwe"
      },
      "source": [
        "# A la sintaxis escrita para elegir un elemento de un grupo de datos se le llama slector \n",
        "en el caso de strings y listas (lts) se usan los caracteres [y]\n",
        "\n",
        "1. En todos los lenguajes los arreglos inician en 0 \n",
        "2. En python no existe como tal el tipo de dato arreglo el concepto es sustituido por las listas \n",
        "3. Los srintgs se comportan como un  arreglo en la mayoria de los lenguajes \n",
        "4. en python se acepta en indexado negativo en otro lenguajes NO "
      ]
    },
    {
      "cell_type": "code",
      "metadata": {
        "colab": {
          "base_uri": "https://localhost:8080/"
        },
        "id": "krJxQo20scgX",
        "outputId": "e29d9811-3866-4cd8-f540-f77759d39dd6"
      },
      "source": [
        " carrera =\"ingeniería en computación\"\n",
        " print( carrera [8] )\n",
        " print( carrera [24] )\n",
        "print( carrera [-1] )\n",
        "print( carrera [-25] )\n",
        "\n",
        "\n",
        "# Adelantando el tema del ciclo FOR\n",
        "\n",
        " for letra in carrera:\n",
        "    print(\"-->\" ,letra,\"<--\" )\n",
        "\n",
        "  "
      ],
      "execution_count": null,
      "outputs": [
        {
          "output_type": "stream",
          "name": "stdout",
          "text": [
            "í\n",
            "n\n",
            "n\n",
            "i\n",
            "--> i <--\n",
            "--> n <--\n",
            "--> g <--\n",
            "--> e <--\n",
            "--> n <--\n",
            "--> i <--\n",
            "--> e <--\n",
            "--> r <--\n",
            "--> í <--\n",
            "--> a <--\n",
            "-->   <--\n",
            "--> e <--\n",
            "--> n <--\n",
            "-->   <--\n",
            "--> c <--\n",
            "--> o <--\n",
            "--> m <--\n",
            "--> p <--\n",
            "--> u <--\n",
            "--> t <--\n",
            "--> a <--\n",
            "--> c <--\n",
            "--> i <--\n",
            "--> ó <--\n",
            "--> n <--\n"
          ]
        }
      ]
    },
    {
      "cell_type": "markdown",
      "metadata": {
        "id": "SEp1sg-nu4NQ"
      },
      "source": [
        "# Slicing (rebanado) de ( de cadenas)\n",
        "Permite seleccionar subcadenas con el   operador \n",
        "####[ inicio : stop : incremento ]\n",
        "el stop no se incluye, es por eso que debemos agregar una posiscion extra \n",
        "\n",
        "### SLICING y avlores por defecto\n",
        "\n",
        "inicio por defecto siempre sera 0\n",
        "\n",
        "stop: el tamaño del arreglo (indexado postivo) \n",
        "     o( en un indexado negativo)\n",
        "\n",
        "inctremento: es 1 (indexado positivo)    "
      ]
    },
    {
      "cell_type": "code",
      "metadata": {
        "colab": {
          "base_uri": "https://localhost:8080/"
        },
        "id": "7NUy72HAvVo-",
        "outputId": "84bee31f-b488-453c-bc88-9aab6aab4f6e"
      },
      "source": [
        " carrera =\"ingeniería en computación\"\n",
        " print( carrera[0:10:1] )\n",
        " print( carrera[14:25:1] )\n",
        " # los mismo pero con indexado negatico ??\n",
        " print( carrera[-11 : -1 : 1] )\n",
        " print( carrera[:10:] )\n",
        " print( carrera[14:25:] )\n",
        " print( carrera[-11 : : 1] )\n",
        "\n",
        " # SOLUCION PREVIA \n",
        " print (\"------\")\n",
        " print( carrera[-11 : -1 : 1] )\n",
        " print( carrera[-11 : : 1] )\n",
        "\n",
        "\n",
        " # un ejercicio mas para ver incremento\n",
        " # los saltos que hace \n",
        "\n",
        " print( carrera[0:10:2] )\n",
        " print( carrera[-1:-12:-1] )\n",
        " print( carrera [25:13:-1] )"
      ],
      "execution_count": null,
      "outputs": [
        {
          "output_type": "stream",
          "name": "stdout",
          "text": [
            "ingeniería\n",
            "computación\n",
            "computació\n",
            "ingeniería\n",
            "computación\n",
            "computación\n",
            "------\n",
            "computació\n",
            "computación\n",
            "igneí\n",
            "nóicatupmoc\n",
            "nóicatupmoc\n"
          ]
        }
      ]
    },
    {
      "cell_type": "markdown",
      "metadata": {
        "id": "fcx-L3uK0ijQ"
      },
      "source": [
        "# String y sus metodos \n",
        "# Todos los tipos de dato en python son obejtos (CLASES de la POO)\n",
        "## los cual significa que tiene atributos de metodos \n",
        "## dir() y help() funciones para obtener ayuda del lenguaje Python \n",
        "\n",
        "### dir muestra las funciones de u tiupo de dato como resumen \n",
        "### hepl muestra la misma ayuda pero a detalle \n",
        "\n",
        "\n",
        "todos los metodos que inician con con guion bajo son privados de uso inetrno de clase y nodeberiamos usarlos \n",
        "\n",
        "todos los demas son para uso exterior (usuario)\n"
      ]
    },
    {
      "cell_type": "code",
      "metadata": {
        "id": "82vK4DMv05dg",
        "colab": {
          "base_uri": "https://localhost:8080/"
        },
        "outputId": "be7cda1d-897b-4601-89c3-8c0e316b5593"
      },
      "source": [
        " frutas = \"  limon , fresa, manzana  , aguacate  \"\n",
        " nombre = \"jose\"\n",
        " print( frutas )\n",
        " dir(frutas)   # se conoce como metodos es un concepto de orientacion a los objetos \n",
        "\n",
        "print( nombre.capitalize() )\n",
        "print( nombre.upper() )\n",
        "dir( frutas )\n",
        "help(str)\n",
        "print( frutas.replace('a' , '4').replace('e' , '3').upper() )  # Cambia las letras por numeros \n",
        "frutas = ( frutas.replace('a' , '4').replace('e' , '3').upper() )  # Se queda ya moficado las letras por los numeros \n",
        "print( frutas )\n",
        "print(\".-.-.-.-.-.-.-.-.-.-.-.-.-\")\n",
        "frutas = \"  limon , fresa, manzana  , aguacate  \"\n",
        "print( frutas.strip() )\n",
        "print( frutas.split(\" , \") ) # separar por espacio \n",
        "\n",
        "\n",
        "\n"
      ],
      "execution_count": 2,
      "outputs": [
        {
          "output_type": "stream",
          "name": "stdout",
          "text": [
            "  limon , fresa, manzana  , aguacate  \n",
            "Jose\n",
            "JOSE\n",
            "Help on class str in module builtins:\n",
            "\n",
            "class str(object)\n",
            " |  str(object='') -> str\n",
            " |  str(bytes_or_buffer[, encoding[, errors]]) -> str\n",
            " |  \n",
            " |  Create a new string object from the given object. If encoding or\n",
            " |  errors is specified, then the object must expose a data buffer\n",
            " |  that will be decoded using the given encoding and error handler.\n",
            " |  Otherwise, returns the result of object.__str__() (if defined)\n",
            " |  or repr(object).\n",
            " |  encoding defaults to sys.getdefaultencoding().\n",
            " |  errors defaults to 'strict'.\n",
            " |  \n",
            " |  Methods defined here:\n",
            " |  \n",
            " |  __add__(self, value, /)\n",
            " |      Return self+value.\n",
            " |  \n",
            " |  __contains__(self, key, /)\n",
            " |      Return key in self.\n",
            " |  \n",
            " |  __eq__(self, value, /)\n",
            " |      Return self==value.\n",
            " |  \n",
            " |  __format__(self, format_spec, /)\n",
            " |      Return a formatted version of the string as described by format_spec.\n",
            " |  \n",
            " |  __ge__(self, value, /)\n",
            " |      Return self>=value.\n",
            " |  \n",
            " |  __getattribute__(self, name, /)\n",
            " |      Return getattr(self, name).\n",
            " |  \n",
            " |  __getitem__(self, key, /)\n",
            " |      Return self[key].\n",
            " |  \n",
            " |  __getnewargs__(...)\n",
            " |  \n",
            " |  __gt__(self, value, /)\n",
            " |      Return self>value.\n",
            " |  \n",
            " |  __hash__(self, /)\n",
            " |      Return hash(self).\n",
            " |  \n",
            " |  __iter__(self, /)\n",
            " |      Implement iter(self).\n",
            " |  \n",
            " |  __le__(self, value, /)\n",
            " |      Return self<=value.\n",
            " |  \n",
            " |  __len__(self, /)\n",
            " |      Return len(self).\n",
            " |  \n",
            " |  __lt__(self, value, /)\n",
            " |      Return self<value.\n",
            " |  \n",
            " |  __mod__(self, value, /)\n",
            " |      Return self%value.\n",
            " |  \n",
            " |  __mul__(self, value, /)\n",
            " |      Return self*value.\n",
            " |  \n",
            " |  __ne__(self, value, /)\n",
            " |      Return self!=value.\n",
            " |  \n",
            " |  __repr__(self, /)\n",
            " |      Return repr(self).\n",
            " |  \n",
            " |  __rmod__(self, value, /)\n",
            " |      Return value%self.\n",
            " |  \n",
            " |  __rmul__(self, value, /)\n",
            " |      Return value*self.\n",
            " |  \n",
            " |  __sizeof__(self, /)\n",
            " |      Return the size of the string in memory, in bytes.\n",
            " |  \n",
            " |  __str__(self, /)\n",
            " |      Return str(self).\n",
            " |  \n",
            " |  capitalize(self, /)\n",
            " |      Return a capitalized version of the string.\n",
            " |      \n",
            " |      More specifically, make the first character have upper case and the rest lower\n",
            " |      case.\n",
            " |  \n",
            " |  casefold(self, /)\n",
            " |      Return a version of the string suitable for caseless comparisons.\n",
            " |  \n",
            " |  center(self, width, fillchar=' ', /)\n",
            " |      Return a centered string of length width.\n",
            " |      \n",
            " |      Padding is done using the specified fill character (default is a space).\n",
            " |  \n",
            " |  count(...)\n",
            " |      S.count(sub[, start[, end]]) -> int\n",
            " |      \n",
            " |      Return the number of non-overlapping occurrences of substring sub in\n",
            " |      string S[start:end].  Optional arguments start and end are\n",
            " |      interpreted as in slice notation.\n",
            " |  \n",
            " |  encode(self, /, encoding='utf-8', errors='strict')\n",
            " |      Encode the string using the codec registered for encoding.\n",
            " |      \n",
            " |      encoding\n",
            " |        The encoding in which to encode the string.\n",
            " |      errors\n",
            " |        The error handling scheme to use for encoding errors.\n",
            " |        The default is 'strict' meaning that encoding errors raise a\n",
            " |        UnicodeEncodeError.  Other possible values are 'ignore', 'replace' and\n",
            " |        'xmlcharrefreplace' as well as any other name registered with\n",
            " |        codecs.register_error that can handle UnicodeEncodeErrors.\n",
            " |  \n",
            " |  endswith(...)\n",
            " |      S.endswith(suffix[, start[, end]]) -> bool\n",
            " |      \n",
            " |      Return True if S ends with the specified suffix, False otherwise.\n",
            " |      With optional start, test S beginning at that position.\n",
            " |      With optional end, stop comparing S at that position.\n",
            " |      suffix can also be a tuple of strings to try.\n",
            " |  \n",
            " |  expandtabs(self, /, tabsize=8)\n",
            " |      Return a copy where all tab characters are expanded using spaces.\n",
            " |      \n",
            " |      If tabsize is not given, a tab size of 8 characters is assumed.\n",
            " |  \n",
            " |  find(...)\n",
            " |      S.find(sub[, start[, end]]) -> int\n",
            " |      \n",
            " |      Return the lowest index in S where substring sub is found,\n",
            " |      such that sub is contained within S[start:end].  Optional\n",
            " |      arguments start and end are interpreted as in slice notation.\n",
            " |      \n",
            " |      Return -1 on failure.\n",
            " |  \n",
            " |  format(...)\n",
            " |      S.format(*args, **kwargs) -> str\n",
            " |      \n",
            " |      Return a formatted version of S, using substitutions from args and kwargs.\n",
            " |      The substitutions are identified by braces ('{' and '}').\n",
            " |  \n",
            " |  format_map(...)\n",
            " |      S.format_map(mapping) -> str\n",
            " |      \n",
            " |      Return a formatted version of S, using substitutions from mapping.\n",
            " |      The substitutions are identified by braces ('{' and '}').\n",
            " |  \n",
            " |  index(...)\n",
            " |      S.index(sub[, start[, end]]) -> int\n",
            " |      \n",
            " |      Return the lowest index in S where substring sub is found, \n",
            " |      such that sub is contained within S[start:end].  Optional\n",
            " |      arguments start and end are interpreted as in slice notation.\n",
            " |      \n",
            " |      Raises ValueError when the substring is not found.\n",
            " |  \n",
            " |  isalnum(self, /)\n",
            " |      Return True if the string is an alpha-numeric string, False otherwise.\n",
            " |      \n",
            " |      A string is alpha-numeric if all characters in the string are alpha-numeric and\n",
            " |      there is at least one character in the string.\n",
            " |  \n",
            " |  isalpha(self, /)\n",
            " |      Return True if the string is an alphabetic string, False otherwise.\n",
            " |      \n",
            " |      A string is alphabetic if all characters in the string are alphabetic and there\n",
            " |      is at least one character in the string.\n",
            " |  \n",
            " |  isascii(self, /)\n",
            " |      Return True if all characters in the string are ASCII, False otherwise.\n",
            " |      \n",
            " |      ASCII characters have code points in the range U+0000-U+007F.\n",
            " |      Empty string is ASCII too.\n",
            " |  \n",
            " |  isdecimal(self, /)\n",
            " |      Return True if the string is a decimal string, False otherwise.\n",
            " |      \n",
            " |      A string is a decimal string if all characters in the string are decimal and\n",
            " |      there is at least one character in the string.\n",
            " |  \n",
            " |  isdigit(self, /)\n",
            " |      Return True if the string is a digit string, False otherwise.\n",
            " |      \n",
            " |      A string is a digit string if all characters in the string are digits and there\n",
            " |      is at least one character in the string.\n",
            " |  \n",
            " |  isidentifier(self, /)\n",
            " |      Return True if the string is a valid Python identifier, False otherwise.\n",
            " |      \n",
            " |      Use keyword.iskeyword() to test for reserved identifiers such as \"def\" and\n",
            " |      \"class\".\n",
            " |  \n",
            " |  islower(self, /)\n",
            " |      Return True if the string is a lowercase string, False otherwise.\n",
            " |      \n",
            " |      A string is lowercase if all cased characters in the string are lowercase and\n",
            " |      there is at least one cased character in the string.\n",
            " |  \n",
            " |  isnumeric(self, /)\n",
            " |      Return True if the string is a numeric string, False otherwise.\n",
            " |      \n",
            " |      A string is numeric if all characters in the string are numeric and there is at\n",
            " |      least one character in the string.\n",
            " |  \n",
            " |  isprintable(self, /)\n",
            " |      Return True if the string is printable, False otherwise.\n",
            " |      \n",
            " |      A string is printable if all of its characters are considered printable in\n",
            " |      repr() or if it is empty.\n",
            " |  \n",
            " |  isspace(self, /)\n",
            " |      Return True if the string is a whitespace string, False otherwise.\n",
            " |      \n",
            " |      A string is whitespace if all characters in the string are whitespace and there\n",
            " |      is at least one character in the string.\n",
            " |  \n",
            " |  istitle(self, /)\n",
            " |      Return True if the string is a title-cased string, False otherwise.\n",
            " |      \n",
            " |      In a title-cased string, upper- and title-case characters may only\n",
            " |      follow uncased characters and lowercase characters only cased ones.\n",
            " |  \n",
            " |  isupper(self, /)\n",
            " |      Return True if the string is an uppercase string, False otherwise.\n",
            " |      \n",
            " |      A string is uppercase if all cased characters in the string are uppercase and\n",
            " |      there is at least one cased character in the string.\n",
            " |  \n",
            " |  join(self, iterable, /)\n",
            " |      Concatenate any number of strings.\n",
            " |      \n",
            " |      The string whose method is called is inserted in between each given string.\n",
            " |      The result is returned as a new string.\n",
            " |      \n",
            " |      Example: '.'.join(['ab', 'pq', 'rs']) -> 'ab.pq.rs'\n",
            " |  \n",
            " |  ljust(self, width, fillchar=' ', /)\n",
            " |      Return a left-justified string of length width.\n",
            " |      \n",
            " |      Padding is done using the specified fill character (default is a space).\n",
            " |  \n",
            " |  lower(self, /)\n",
            " |      Return a copy of the string converted to lowercase.\n",
            " |  \n",
            " |  lstrip(self, chars=None, /)\n",
            " |      Return a copy of the string with leading whitespace removed.\n",
            " |      \n",
            " |      If chars is given and not None, remove characters in chars instead.\n",
            " |  \n",
            " |  partition(self, sep, /)\n",
            " |      Partition the string into three parts using the given separator.\n",
            " |      \n",
            " |      This will search for the separator in the string.  If the separator is found,\n",
            " |      returns a 3-tuple containing the part before the separator, the separator\n",
            " |      itself, and the part after it.\n",
            " |      \n",
            " |      If the separator is not found, returns a 3-tuple containing the original string\n",
            " |      and two empty strings.\n",
            " |  \n",
            " |  replace(self, old, new, count=-1, /)\n",
            " |      Return a copy with all occurrences of substring old replaced by new.\n",
            " |      \n",
            " |        count\n",
            " |          Maximum number of occurrences to replace.\n",
            " |          -1 (the default value) means replace all occurrences.\n",
            " |      \n",
            " |      If the optional argument count is given, only the first count occurrences are\n",
            " |      replaced.\n",
            " |  \n",
            " |  rfind(...)\n",
            " |      S.rfind(sub[, start[, end]]) -> int\n",
            " |      \n",
            " |      Return the highest index in S where substring sub is found,\n",
            " |      such that sub is contained within S[start:end].  Optional\n",
            " |      arguments start and end are interpreted as in slice notation.\n",
            " |      \n",
            " |      Return -1 on failure.\n",
            " |  \n",
            " |  rindex(...)\n",
            " |      S.rindex(sub[, start[, end]]) -> int\n",
            " |      \n",
            " |      Return the highest index in S where substring sub is found,\n",
            " |      such that sub is contained within S[start:end].  Optional\n",
            " |      arguments start and end are interpreted as in slice notation.\n",
            " |      \n",
            " |      Raises ValueError when the substring is not found.\n",
            " |  \n",
            " |  rjust(self, width, fillchar=' ', /)\n",
            " |      Return a right-justified string of length width.\n",
            " |      \n",
            " |      Padding is done using the specified fill character (default is a space).\n",
            " |  \n",
            " |  rpartition(self, sep, /)\n",
            " |      Partition the string into three parts using the given separator.\n",
            " |      \n",
            " |      This will search for the separator in the string, starting at the end. If\n",
            " |      the separator is found, returns a 3-tuple containing the part before the\n",
            " |      separator, the separator itself, and the part after it.\n",
            " |      \n",
            " |      If the separator is not found, returns a 3-tuple containing two empty strings\n",
            " |      and the original string.\n",
            " |  \n",
            " |  rsplit(self, /, sep=None, maxsplit=-1)\n",
            " |      Return a list of the words in the string, using sep as the delimiter string.\n",
            " |      \n",
            " |        sep\n",
            " |          The delimiter according which to split the string.\n",
            " |          None (the default value) means split according to any whitespace,\n",
            " |          and discard empty strings from the result.\n",
            " |        maxsplit\n",
            " |          Maximum number of splits to do.\n",
            " |          -1 (the default value) means no limit.\n",
            " |      \n",
            " |      Splits are done starting at the end of the string and working to the front.\n",
            " |  \n",
            " |  rstrip(self, chars=None, /)\n",
            " |      Return a copy of the string with trailing whitespace removed.\n",
            " |      \n",
            " |      If chars is given and not None, remove characters in chars instead.\n",
            " |  \n",
            " |  split(self, /, sep=None, maxsplit=-1)\n",
            " |      Return a list of the words in the string, using sep as the delimiter string.\n",
            " |      \n",
            " |      sep\n",
            " |        The delimiter according which to split the string.\n",
            " |        None (the default value) means split according to any whitespace,\n",
            " |        and discard empty strings from the result.\n",
            " |      maxsplit\n",
            " |        Maximum number of splits to do.\n",
            " |        -1 (the default value) means no limit.\n",
            " |  \n",
            " |  splitlines(self, /, keepends=False)\n",
            " |      Return a list of the lines in the string, breaking at line boundaries.\n",
            " |      \n",
            " |      Line breaks are not included in the resulting list unless keepends is given and\n",
            " |      true.\n",
            " |  \n",
            " |  startswith(...)\n",
            " |      S.startswith(prefix[, start[, end]]) -> bool\n",
            " |      \n",
            " |      Return True if S starts with the specified prefix, False otherwise.\n",
            " |      With optional start, test S beginning at that position.\n",
            " |      With optional end, stop comparing S at that position.\n",
            " |      prefix can also be a tuple of strings to try.\n",
            " |  \n",
            " |  strip(self, chars=None, /)\n",
            " |      Return a copy of the string with leading and trailing whitespace removed.\n",
            " |      \n",
            " |      If chars is given and not None, remove characters in chars instead.\n",
            " |  \n",
            " |  swapcase(self, /)\n",
            " |      Convert uppercase characters to lowercase and lowercase characters to uppercase.\n",
            " |  \n",
            " |  title(self, /)\n",
            " |      Return a version of the string where each word is titlecased.\n",
            " |      \n",
            " |      More specifically, words start with uppercased characters and all remaining\n",
            " |      cased characters have lower case.\n",
            " |  \n",
            " |  translate(self, table, /)\n",
            " |      Replace each character in the string using the given translation table.\n",
            " |      \n",
            " |        table\n",
            " |          Translation table, which must be a mapping of Unicode ordinals to\n",
            " |          Unicode ordinals, strings, or None.\n",
            " |      \n",
            " |      The table must implement lookup/indexing via __getitem__, for instance a\n",
            " |      dictionary or list.  If this operation raises LookupError, the character is\n",
            " |      left untouched.  Characters mapped to None are deleted.\n",
            " |  \n",
            " |  upper(self, /)\n",
            " |      Return a copy of the string converted to uppercase.\n",
            " |  \n",
            " |  zfill(self, width, /)\n",
            " |      Pad a numeric string with zeros on the left, to fill a field of the given width.\n",
            " |      \n",
            " |      The string is never truncated.\n",
            " |  \n",
            " |  ----------------------------------------------------------------------\n",
            " |  Static methods defined here:\n",
            " |  \n",
            " |  __new__(*args, **kwargs) from builtins.type\n",
            " |      Create and return a new object.  See help(type) for accurate signature.\n",
            " |  \n",
            " |  maketrans(x, y=None, z=None, /)\n",
            " |      Return a translation table usable for str.translate().\n",
            " |      \n",
            " |      If there is only one argument, it must be a dictionary mapping Unicode\n",
            " |      ordinals (integers) or characters to Unicode ordinals, strings or None.\n",
            " |      Character keys will be then converted to ordinals.\n",
            " |      If there are two arguments, they must be strings of equal length, and\n",
            " |      in the resulting dictionary, each character in x will be mapped to the\n",
            " |      character at the same position in y. If there is a third argument, it\n",
            " |      must be a string, whose characters will be mapped to None in the result.\n",
            "\n",
            "  LIMON , FR3S4, M4NZ4N4  , 4GU4C4T3  \n",
            "  LIMON , FR3S4, M4NZ4N4  , 4GU4C4T3  \n",
            ".-.-.-.-.-.-.-.-.-.-.-.-.-\n",
            "limon , fresa, manzana  , aguacate\n",
            "['  limon', 'fresa, manzana ', 'aguacate  ']\n"
          ]
        }
      ]
    },
    {
      "cell_type": "markdown",
      "metadata": {
        "id": "jalvIKuz3HeP"
      },
      "source": [
        "## capitalize: pone las letras en mayusculas \n",
        "## replace: cambia una letra por numeros "
      ]
    },
    {
      "cell_type": "code",
      "metadata": {
        "id": "NVdK6xC97xnD"
      },
      "source": [
        " dir(str)"
      ],
      "execution_count": null,
      "outputs": []
    },
    {
      "cell_type": "markdown",
      "metadata": {
        "id": "MCjkmqhi73Eg"
      },
      "source": [
        "## Probar para que sirve cada uno"
      ]
    },
    {
      "cell_type": "markdown",
      "metadata": {
        "id": "mQrTM3bX8ZfQ"
      },
      "source": [
        "# String y caracteres de escape \n",
        "\"Jose\"\n",
        "- \\\\\"   --> \"\n",
        "- \\\\'   --> '\n",
        "- \\n   --> Salto de linea (tecla enter)\n",
        "- \\t   --> tabulador spacios a la izq.\n",
        "- \\uxxxx  --> Caracteres unicode \n",
        "- \\Uxxxxxxxx --> unicode extendido\n",
        "- \\\\\\   --> \\\\ \n"
      ]
    },
    {
      "cell_type": "code",
      "metadata": {
        "colab": {
          "base_uri": "https://localhost:8080/"
        },
        "id": "dlNOjNsV80Q9",
        "outputId": "909ca272-a975-4430-b6dc-ed7646f50574"
      },
      "source": [
        "print(\" \\\"Jose\\\" \")\n",
        "nombre = \" \\\"Jose\\\" \"\n",
        "print( nombre )\n",
        "carrera = \"Ingeniería \\nen  \\nComputación\"\n",
        "print(carrera)\n",
        "carrera = \"Ingeniería \\n\\ten  \\n\\t\\tComputación\"\n",
        "print(carrera)\n"
      ],
      "execution_count": null,
      "outputs": [
        {
          "output_type": "stream",
          "name": "stdout",
          "text": [
            " \"Jose\" \n",
            " \"Jose\" \n",
            "Ingeniería \n",
            "en  \n",
            "Computación\n",
            "Ingeniería \n",
            "\ten  \n",
            "\t\tComputación\n"
          ]
        }
      ]
    },
    {
      "cell_type": "markdown",
      "metadata": {
        "id": "ajjt-DfHDQSH"
      },
      "source": [
        "### 21 octubre del 2021 "
      ]
    },
    {
      "cell_type": "code",
      "metadata": {
        "colab": {
          "base_uri": "https://localhost:8080/"
        },
        "id": "adW2zR-KqNou",
        "outputId": "ad5a29e2-e170-4754-b918-90ae26875bae"
      },
      "source": [
        "print(\" \\\"Jose\\\" \")\n",
        "nombre = \" \\\"Jose\\\" \"\n",
        "print( nombre )\n",
        "carrera = \"Ingeniería \\n\\ten  \\n\\t\\tComputación\"\n",
        "print( carrera ) \n",
        "\n",
        "#Simbolos y emoji \n",
        "print( \"\\u0065\")\n",
        "print(\"\\u0444\")\n",
        "print(\"\\u0620\")\n",
        "\n",
        "print(\"\\U00010057\")\n",
        "print(\"\\U0001F602\")\n",
        "print(\" \\U0001F9A0\")\n"
      ],
      "execution_count": null,
      "outputs": [
        {
          "output_type": "stream",
          "name": "stdout",
          "text": [
            " \"Jose\" \n",
            " \"Jose\" \n",
            "Ingeniería \n",
            "\ten  \n",
            "\t\tComputación\n",
            "e\n",
            "ф\n",
            "ؠ\n",
            "𐁗\n",
            "😂\n",
            " 🦠\n"
          ]
        }
      ]
    },
    {
      "cell_type": "markdown",
      "metadata": {
        "id": "U4y2VufLyKS0"
      },
      "source": [
        "#Funcion print\n",
        "\n",
        "### Se empela para desplegar informacion en la salida  estandar normalmente un monitor. \n",
        "\n",
        "- Formas de usar print \n",
        "- el argumento por defecto de print \n",
        "(end)\n",
        "- format()\n",
        "-operador f"
      ]
    },
    {
      "cell_type": "markdown",
      "metadata": {
        "id": "zGvuHVPkB1As"
      },
      "source": [
        "### Format \n",
        "- la funcion format acomoda en orden de mis variables \n",
        "- en los {} le puedo dar el orden con el -- numero de mis variables \n",
        "- al detectar una f en un srting puedes-usar la variable completa  "
      ]
    },
    {
      "cell_type": "code",
      "metadata": {
        "colab": {
          "base_uri": "https://localhost:8080/"
        },
        "id": "VFr5uKhQy4Bw",
        "outputId": "d1a8d8e8-b87d-4839-c432-d26114107e3c"
      },
      "source": [
        "nombre = \"Daira\"\n",
        "edad = 18\n",
        "casado = False\n",
        "estatura = 1.67\n",
        "\n",
        "\n",
        "#1. con comas concatena haciendo unn casting coversion astring automatico \n",
        "# agrega un espacio\n",
        "print( nombre , edad , casado ,  estatura)\n",
        "print(\"Nombre: \" + nombre + \"\\n\\tEdad \" +str(edad) +\"\\nEsta casado:\"+ str(casado) +\"\\n\\tEstatura en metros\" +str(estatura))\n",
        "\n",
        "# 2. Con el simbolo de \"+\"\n",
        "#concatenacion en crudo \n",
        "print( nombre+ \" \" +str(edad)+\" \"+str(casado)+\" \"+str(estatura))\n",
        "\n",
        "#3. Dando formato a ala salida con fomrat\n",
        "print( \"Nombre: {}\\n\\tEdad: {}\\n\\tEsta casado: {}\\n\\tEstatura en metro:{}\" .format( nombre,edad,casado,estatura)) \n",
        "\n",
        "#como manejar un argumento\n",
        "\n",
        "print(\"\\n como usar un argumento end\")\n",
        "print(f\"Hola {nombre}\" , end=\" \") # al poner nada manda espacio \n",
        "print(\", como estas?\" ,  end=\"\\n\") #de manera implicita manada salto de linea \n",
        "\n"
      ],
      "execution_count": 3,
      "outputs": [
        {
          "output_type": "stream",
          "name": "stdout",
          "text": [
            "Daira 18 False 1.67\n",
            "Nombre: Daira\n",
            "\tEdad 18\n",
            "Esta casado:False\n",
            "\tEstatura en metros1.67\n",
            "Daira 18 False 1.67\n",
            "Nombre: Daira\n",
            "\tEdad: 18\n",
            "\tEsta casado: False\n",
            "\tEstatura en metro:1.67\n",
            "\n",
            " como usar un argumento end\n",
            "Hola Daira , como estas?\n"
          ]
        }
      ]
    },
    {
      "cell_type": "markdown",
      "metadata": {
        "id": "NyPczmmA7BLL"
      },
      "source": [
        "# Con una sola funcion POR LETRA print escribir su primer nombre (nobre de pila) de la sig forma \n",
        "\n",
        "K  k \n",
        "Kk\n",
        "K\n",
        "K\n",
        "K k"
      ]
    },
    {
      "cell_type": "markdown",
      "metadata": {
        "id": "T6H7yDVvtLV8"
      },
      "source": [
        "### TAREA 4"
      ]
    },
    {
      "cell_type": "code",
      "metadata": {
        "colab": {
          "base_uri": "https://localhost:8080/"
        },
        "id": "vwAfJvzpvWH_",
        "outputId": "a99f7758-70b3-4095-fb06-507119981bc5"
      },
      "source": [
        "print(\"\"\" \n",
        "      DDDD       A     IIIIII  R R R       A\n",
        "      D    D    A A      II    R     R    A A\n",
        "      D     D  A A A     II    R  R R    A A A\n",
        "      DDDD D  A     A  IIIIII  R     R  A     A\"\"\")"
      ],
      "execution_count": 4,
      "outputs": [
        {
          "output_type": "stream",
          "name": "stdout",
          "text": [
            " \n",
            "      DDDD       A     IIIIII  R R R       A\n",
            "      D    D    A A      II    R     R    A A\n",
            "      D     D  A A A     II    R  R R    A A A\n",
            "      DDDD D  A     A  IIIIII  R     R  A     A\n"
          ]
        }
      ]
    }
  ]
}